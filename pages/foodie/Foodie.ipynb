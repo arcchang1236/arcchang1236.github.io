{
 "cells": [
  {
   "cell_type": "code",
   "execution_count": null,
   "id": "85954b3f",
   "metadata": {},
   "outputs": [],
   "source": [
    "TAG = {\n",
    "    '適合聚餐': ['#聚餐首選', '#', '#', '#'],\n",
    "    '適合': ['#聚餐首選', '#', '#', '#'],\n",
    "    '適合聚': ['#聚餐首選', '#', '#', '#'],\n",
    "}"
   ]
  },
  {
   "cell_type": "code",
   "execution_count": 1,
   "id": "5b32a654",
   "metadata": {},
   "outputs": [],
   "source": [
    "import pandas as pd"
   ]
  },
  {
   "cell_type": "code",
   "execution_count": 2,
   "id": "911dc717",
   "metadata": {},
   "outputs": [
    {
     "data": {
      "text/html": [
       "<div>\n",
       "<style scoped>\n",
       "    .dataframe tbody tr th:only-of-type {\n",
       "        vertical-align: middle;\n",
       "    }\n",
       "\n",
       "    .dataframe tbody tr th {\n",
       "        vertical-align: top;\n",
       "    }\n",
       "\n",
       "    .dataframe thead th {\n",
       "        text-align: right;\n",
       "    }\n",
       "</style>\n",
       "<table border=\"1\" class=\"dataframe\">\n",
       "  <thead>\n",
       "    <tr style=\"text-align: right;\">\n",
       "      <th></th>\n",
       "      <th>時間戳記</th>\n",
       "      <th>地區</th>\n",
       "      <th>詳細地點 (eg. 東區、雙連站1號出口)</th>\n",
       "      <th>餐廳名稱</th>\n",
       "      <th>餐廳地址</th>\n",
       "      <th>餐廳電話</th>\n",
       "      <th>評分</th>\n",
       "      <th>可以訂位?</th>\n",
       "      <th>標語 Slogan</th>\n",
       "      <th>營業時間 (開始)</th>\n",
       "      <th>營業時間 (結束)</th>\n",
       "      <th>公休</th>\n",
       "      <th>營業時間 2 (開始)</th>\n",
       "      <th>營業時間 2 (結束)</th>\n",
       "      <th>價位</th>\n",
       "      <th>餐點/價錢 (炒飯 50)</th>\n",
       "      <th>Tag</th>\n",
       "    </tr>\n",
       "  </thead>\n",
       "  <tbody>\n",
       "    <tr>\n",
       "      <th>0</th>\n",
       "      <td>2022-09-07 00:38:42.093</td>\n",
       "      <td>新竹市</td>\n",
       "      <td>東區</td>\n",
       "      <td>禧樂</td>\n",
       "      <td>新竹市東區篤行一路1號</td>\n",
       "      <td>934335141</td>\n",
       "      <td>2</td>\n",
       "      <td>Y</td>\n",
       "      <td>變貴的生魚片丼</td>\n",
       "      <td>09:00:00</td>\n",
       "      <td>12:00:00</td>\n",
       "      <td>週一, 週二, 週四</td>\n",
       "      <td>17:00:00</td>\n",
       "      <td>20:00:00</td>\n",
       "      <td>300 - 500</td>\n",
       "      <td>鮭魚丼 260\\n滷肉飯 30</td>\n",
       "      <td>適合聚餐</td>\n",
       "    </tr>\n",
       "  </tbody>\n",
       "</table>\n",
       "</div>"
      ],
      "text/plain": [
       "                     時間戳記   地區 詳細地點 (eg. 東區、雙連站1號出口) 餐廳名稱         餐廳地址  \\\n",
       "0 2022-09-07 00:38:42.093  新竹市                    東區   禧樂  新竹市東區篤行一路1號   \n",
       "\n",
       "        餐廳電話  評分 可以訂位? 標語 Slogan 營業時間 (開始) 營業時間 (結束)          公休 營業時間 2 (開始)  \\\n",
       "0  934335141   2     Y   變貴的生魚片丼  09:00:00  12:00:00  週一, 週二, 週四    17:00:00   \n",
       "\n",
       "  營業時間 2 (結束)         價位    餐點/價錢 (炒飯 50)   Tag  \n",
       "0    20:00:00  300 - 500  鮭魚丼 260\\n滷肉飯 30  適合聚餐  "
      ]
     },
     "execution_count": 2,
     "metadata": {},
     "output_type": "execute_result"
    }
   ],
   "source": [
    "### 讀 EXCEL\n",
    "# a = input()\n",
    "a = r'C:\\Users\\User\\Desktop\\code\\foodie\\foodie.xlsx'\n",
    "df = pd.read_excel(a, engine='openpyxl')\n",
    "df"
   ]
  },
  {
   "cell_type": "code",
   "execution_count": null,
   "id": "b8fcd6d2",
   "metadata": {},
   "outputs": [],
   "source": [
    "### 生成 HTML 檔\n",
    "for idx, r in df.iterrows():\n",
    "    print(idx, r)\n"
   ]
  }
 ],
 "metadata": {
  "kernelspec": {
   "display_name": "Python 3",
   "language": "python",
   "name": "python3"
  },
  "language_info": {
   "codemirror_mode": {
    "name": "ipython",
    "version": 3
   },
   "file_extension": ".py",
   "mimetype": "text/x-python",
   "name": "python",
   "nbconvert_exporter": "python",
   "pygments_lexer": "ipython3",
   "version": "3.6.13"
  }
 },
 "nbformat": 4,
 "nbformat_minor": 5
}
