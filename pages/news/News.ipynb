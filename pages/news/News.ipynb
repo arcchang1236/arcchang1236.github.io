{
 "cells": [
  {
   "cell_type": "code",
   "execution_count": 2,
   "id": "a98ce959",
   "metadata": {},
   "outputs": [],
   "source": [
    "import requests\n",
    "\n",
    "from bs4 import BeautifulSoup\n",
    "from urllib.parse import quote"
   ]
  },
  {
   "cell_type": "code",
   "execution_count": 59,
   "id": "57256c03",
   "metadata": {},
   "outputs": [
    {
     "name": "stdout",
     "output_type": "stream",
     "text": [
      "^C\n"
     ]
    }
   ],
   "source": []
  },
  {
   "cell_type": "code",
   "execution_count": 34,
   "id": "1ac1271e",
   "metadata": {},
   "outputs": [],
   "source": [
    "# URL = 'https://tw.stock.yahoo.com/tw-market/'\n",
    "URL = 'https://news.cnyes.com/news/cat/tw_stock_news'\n",
    "list_req = requests.get(URL)\n",
    "list_req.encoding = 'utf-8'\n",
    "soup = BeautifulSoup(list_req.content, \"html.parser\")"
   ]
  },
  {
   "cell_type": "code",
   "execution_count": 58,
   "id": "c920147d",
   "metadata": {},
   "outputs": [
    {
     "name": "stdout",
     "output_type": "stream",
     "text": [
      "https://news.cnyes.com/news/id/5168337\n",
      "2023-05-08T12:58:04+08:00\n",
      "【產業概觀】離岸風電是什麼？全球能源轉型不可或缺角色，風力產業鏈介紹\n",
      "\n",
      "https://news.cnyes.com/news/id/5168294\n",
      "2023-05-08T12:36:36+08:00\n",
      "〈房產〉台北市今年來億元級辦公樓 前五都採無貸款交易\n",
      "\n",
      "https://news.cnyes.com/news/id/5168233\n",
      "2023-05-08T12:36:08+08:00\n",
      "運輸市場大者恆大穩陣腳 中菲行4月貨量僅減約2-3成\n",
      "\n",
      "https://news.cnyes.com/news/id/5168293\n",
      "2023-05-08T12:17:31+08:00\n",
      "〈財委會質詢〉4月出口值下午揭曉 阮清華：衰退幅度已縮小\n",
      "\n",
      "https://news.cnyes.com/news/id/5168238\n",
      "2023-05-08T12:16:16+08:00\n",
      "中華食品4月營收1.42億元年增8.36% 符合預期\n",
      "\n",
      "https://news.cnyes.com/news/id/5168288\n",
      "2023-05-08T12:15:55+08:00\n",
      "〈台股盤中〉早盤漲逾百點 收復月、季均線\n",
      "\n",
      "https://news.cnyes.com/news/id/5168202\n",
      "2023-05-08T11:26:03+08:00\n",
      "5/8 - 5/12 本週財經大事 債務上限會議、CPI/PPI\n",
      "\n",
      "https://news.cnyes.com/news/id/5168081\n",
      "2023-05-08T10:48:46+08:00\n",
      "婚宴商聚、觀光團餐連袂回溫 新天地樂看Q2\n",
      "\n",
      "https://news.cnyes.com/news/id/5167896\n",
      "2023-05-08T10:07:15+08:00\n",
      "〈焦點股〉星宇航空 一連串延誤風波惹議 股價力守3字頭\n",
      "\n",
      "https://news.cnyes.com/news/id/5167870\n",
      "2023-05-08T09:55:34+08:00\n",
      "泰山除擬投資街口36億元之外 還要花9.27億元興建台中新廠\n",
      "\n",
      "https://news.cnyes.com/news/id/5167721\n",
      "2023-05-08T09:00:06+08:00\n",
      "台股這波靠外資拉上萬六? 外資翻多三部曲現在才剛起漲?\n",
      "\n",
      "https://news.cnyes.com/news/id/5167708\n",
      "2023-05-08T08:35:48+08:00\n",
      "〈台股盤前〉蘋果財報利多助攻 多頭掌旗拚返月線\n",
      "\n",
      "https://news.cnyes.com/news/id/5167573\n",
      "2023-05-07T22:33:09+08:00\n",
      "泰山投資街口卻「三緘其口」 證交所下令5/9前說清楚\n",
      "\n",
      "https://news.cnyes.com/news/id/5167568\n",
      "2023-05-07T22:32:31+08:00\n",
      "泰山擬配發每股4元現金股息 殖利率13.42%\n",
      "\n",
      "https://news.cnyes.com/news/id/5167564\n",
      "2023-05-07T21:33:44+08:00\n",
      "長榮航入盟10周年  全球首架787-10星空聯盟塗裝亮相\n",
      "\n",
      "https://news.cnyes.com/news/id/5167563\n",
      "2023-05-07T21:32:23+08:00\n",
      "班機延誤風波 星宇發完整說明 這航班旅客全額退票\n",
      "\n",
      "https://news.cnyes.com/news/id/5167521\n",
      "2023-05-07T16:00:08+08:00\n",
      "景氣續弱+工作天數減少 4月出口估年減2成 連8黑成定局\n",
      "\n",
      "https://news.cnyes.com/news/id/5167520\n",
      "2023-05-07T14:00:13+08:00\n",
      "鴻海法說、台積電技術論壇、進出口統計 本周大事預告\n",
      "\n",
      "https://news.cnyes.com/news/id/5167435\n",
      "2023-05-07T13:00:10+08:00\n",
      "藥華藥紅血球增多症新藥日本Q3上市 估藥價美國三分之二\n",
      "\n",
      "https://news.cnyes.com/news/id/5167423\n",
      "2023-05-07T11:21:23+08:00\n",
      "〈台股風向球〉跳恰恰行情下 續走個股優於大盤格局\n",
      "\n",
      "https://news.cnyes.com/news/id/5167362\n",
      "2023-05-06T15:57:13+08:00\n",
      "泰山宣布以36億元取街口支付40.4%股權\n",
      "\n",
      "https://news.cnyes.com/news/id/5167175\n",
      "2023-05-06T15:50:50+08:00\n",
      "聯準會升息、台版晶片法草案拍板、imB涉非法吸金 本周大事回顧\n",
      "\n",
      "https://news.cnyes.com/news/id/5167331\n",
      "2023-05-06T15:50:42+08:00\n",
      "〈熱門股〉冠星-KY Q1稅前賺逾半股本 周漲近14%登10個月高\n",
      "\n",
      "https://news.cnyes.com/news/id/5167322\n",
      "2023-05-06T15:50:09+08:00\n",
      "〈廣達家庭日〉林百里：廣達連中三龍頭 未來持續壯大\n",
      "\n",
      "https://news.cnyes.com/news/id/5167064\n",
      "2023-05-06T15:30:06+08:00\n",
      "〈熱門股〉散熱產業美系外資叫好 奇鋐周漲15%創高\n",
      "\n",
      "https://news.cnyes.com/news/id/5167179\n",
      "2023-05-06T15:00:08+08:00\n",
      "〈熱門股〉進軍印度藍海市場 大宇資周漲27.95%\n",
      "\n",
      "https://news.cnyes.com/news/id/5167133\n",
      "2023-05-06T14:00:22+08:00\n",
      "〈熱門股〉美而快回鍋百元俱樂部 寫逾10個月來新高\n",
      "\n",
      "https://news.cnyes.com/news/id/5167123\n",
      "2023-05-06T13:00:05+08:00\n",
      "〈熱門股〉漲價+擴產效益大 茂順營收亮麗創新天價\n",
      "\n",
      "https://news.cnyes.com/news/id/5167098\n",
      "2023-05-06T11:59:06+08:00\n",
      "〈熱門股〉創意獲外資升評 周漲14%戰前高\n",
      "\n",
      "https://news.cnyes.com/news/id/5166815\n",
      "2023-05-06T10:10:03+08:00\n",
      "〈研之有物〉解密兒童癌症：ALT 癌細胞如何延長端粒、逃避免疫系統？\n",
      "\n"
     ]
    }
   ],
   "source": [
    "# getAllNew= soup.find('table',{'id':'newListContainer'}) #抓到新聞的table\n",
    "# getAllNew.contents\n",
    "# a_tags = soup.find_all('a')\n",
    "# for tag in a_tags:\n",
    "#     print(tag)\n",
    "\n",
    "'https://news.cnyes.com/news/id/5168337?exp=a'\n",
    "for news in soup.find_all('a', {'class', '_1Zdp'}):\n",
    "    link = URL.replace('/news/cat/tw_stock_news', news['href'])\n",
    "    print(link)\n",
    "    print(news.find('time')['datetime'])\n",
    "    print(news['title'])\n",
    "    print()\n",
    "    \n",
    "    \n"
   ]
  },
  {
   "cell_type": "code",
   "execution_count": 26,
   "id": "b9609560",
   "metadata": {},
   "outputs": [
    {
     "data": {
      "text/plain": [
       "['台', '股']"
      ]
     },
     "execution_count": 26,
     "metadata": {},
     "output_type": "execute_result"
    }
   ],
   "source": []
  },
  {
   "cell_type": "code",
   "execution_count": 10,
   "id": "dc1a0920",
   "metadata": {},
   "outputs": [
    {
     "ename": "AttributeError",
     "evalue": "'NoneType' object has no attribute 'find_all'",
     "output_type": "error",
     "traceback": [
      "\u001b[1;31m---------------------------------------------------------------------------\u001b[0m",
      "\u001b[1;31mAttributeError\u001b[0m                            Traceback (most recent call last)",
      "\u001b[1;32m~\\AppData\\Local\\Temp\\ipykernel_12332\\851016192.py\u001b[0m in \u001b[0;36m<module>\u001b[1;34m\u001b[0m\n\u001b[1;32m----> 1\u001b[1;33m \u001b[0mNewsList\u001b[0m \u001b[1;33m=\u001b[0m \u001b[0mgetAllNew\u001b[0m\u001b[1;33m.\u001b[0m\u001b[0mfind_all\u001b[0m\u001b[1;33m(\u001b[0m\u001b[1;34m'td'\u001b[0m\u001b[1;33m,\u001b[0m\u001b[1;33m{\u001b[0m\u001b[1;34m'valign'\u001b[0m\u001b[1;33m:\u001b[0m\u001b[1;34m'top'\u001b[0m\u001b[1;33m}\u001b[0m\u001b[1;33m)\u001b[0m\u001b[1;33m\u001b[0m\u001b[1;33m\u001b[0m\u001b[0m\n\u001b[0m\u001b[0;32m      2\u001b[0m \u001b[1;32mfor\u001b[0m \u001b[0mi\u001b[0m \u001b[1;32min\u001b[0m \u001b[0mrange\u001b[0m\u001b[1;33m(\u001b[0m\u001b[1;36m0\u001b[0m\u001b[1;33m,\u001b[0m\u001b[0mlen\u001b[0m\u001b[1;33m(\u001b[0m\u001b[0mNewsList\u001b[0m\u001b[1;33m)\u001b[0m\u001b[1;33m-\u001b[0m\u001b[1;36m1\u001b[0m\u001b[1;33m,\u001b[0m\u001b[1;36m2\u001b[0m\u001b[1;33m)\u001b[0m\u001b[1;33m:\u001b[0m\u001b[1;33m\u001b[0m\u001b[1;33m\u001b[0m\u001b[0m\n\u001b[0;32m      3\u001b[0m     \u001b[0mprint\u001b[0m\u001b[1;33m(\u001b[0m\u001b[1;34m\"新聞標題： \"\u001b[0m \u001b[1;33m+\u001b[0m \u001b[0mNewsList\u001b[0m\u001b[1;33m[\u001b[0m\u001b[0mi\u001b[0m\u001b[1;33m]\u001b[0m\u001b[1;33m.\u001b[0m\u001b[0mtext\u001b[0m\u001b[1;33m)\u001b[0m\u001b[1;33m\u001b[0m\u001b[1;33m\u001b[0m\u001b[0m\n\u001b[0;32m      4\u001b[0m     \u001b[0mprint\u001b[0m\u001b[1;33m(\u001b[0m\u001b[1;34m\"內文：\\n...\"\u001b[0m \u001b[1;33m+\u001b[0m \u001b[0mNewsList\u001b[0m\u001b[1;33m[\u001b[0m\u001b[1;33m(\u001b[0m\u001b[0mi\u001b[0m\u001b[1;33m+\u001b[0m\u001b[1;36m1\u001b[0m\u001b[1;33m)\u001b[0m\u001b[1;33m]\u001b[0m\u001b[1;33m.\u001b[0m\u001b[0mtext\u001b[0m\u001b[1;33m.\u001b[0m\u001b[0mreplace\u001b[0m\u001b[1;33m(\u001b[0m\u001b[1;34m\"(詳全文)\"\u001b[0m\u001b[1;33m,\u001b[0m \u001b[1;34m\"\"\u001b[0m\u001b[1;33m)\u001b[0m \u001b[1;33m+\u001b[0m \u001b[1;34m\"...\\n\"\u001b[0m\u001b[1;33m)\u001b[0m\u001b[1;33m\u001b[0m\u001b[1;33m\u001b[0m\u001b[0m\n",
      "\u001b[1;31mAttributeError\u001b[0m: 'NoneType' object has no attribute 'find_all'"
     ]
    }
   ],
   "source": [
    "NewsList = getAllNew.find_all('td',{'valign':'top'})\n",
    "for i in range(0,len(NewsList)-1,2):\n",
    "    print(\"新聞標題： \" + NewsList[i].text)\n",
    "    print(\"內文：\\n...\" + NewsList[(i+1)].text.replace(\"(詳全文)\", \"\") + \"...\\n\")"
   ]
  },
  {
   "cell_type": "code",
   "execution_count": null,
   "id": "35ac936b",
   "metadata": {},
   "outputs": [],
   "source": []
  }
 ],
 "metadata": {
  "kernelspec": {
   "display_name": "Python 3 (ipykernel)",
   "language": "python",
   "name": "python3"
  },
  "language_info": {
   "codemirror_mode": {
    "name": "ipython",
    "version": 3
   },
   "file_extension": ".py",
   "mimetype": "text/x-python",
   "name": "python",
   "nbconvert_exporter": "python",
   "pygments_lexer": "ipython3",
   "version": "3.7.16"
  }
 },
 "nbformat": 4,
 "nbformat_minor": 5
}
