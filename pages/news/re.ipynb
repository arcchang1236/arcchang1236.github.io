{
 "cells": [
  {
   "cell_type": "code",
   "execution_count": 1,
   "id": "895fdabf",
   "metadata": {},
   "outputs": [],
   "source": [
    "import os\n",
    "import json\n",
    "import requests\n",
    "import re\n",
    "from bs4 import BeautifulSoup\n",
    "from datetime import date\n",
    "from jinja2 import Template\n",
    "from pathlib import Path\n",
    "from urllib.parse import quote"
   ]
  },
  {
   "cell_type": "code",
   "execution_count": null,
   "id": "6e3b9d91",
   "metadata": {},
   "outputs": [],
   "source": [
    "TODAY = str(date.today())\n",
    "FILENAME = TODAY.replace('-', '')\n",
    "\n",
    "## Highlight the News with Custom Keywords (Good/Bad)\n",
    "keywords = {}\n",
    "with open('keywords_good.txt', encoding='utf-8') as f:\n",
    "  keywords['good'] = f.read().splitlines()\n",
    "\n",
    "with open('keywords_bad.txt', encoding='utf-8') as f:\n",
    "  keywords['bad'] = f.read().splitlines()\n",
    "\n",
    "\n",
    "def mark_ghen_txt(txt, keywords):\n",
    "  RE_STR = ['\\d\\d\\d\\d-TW']\n",
    "  for re_str in RE_STR:\n",
    "    for substr in re.findall(re_str, txt):\n",
    "      txt = txt.replace(substr, f'<strong>{substr}</strong>')\n",
    "  return txt\n",
    "\n",
    "txt = u'光寶科 (2301-TW) 推動低碳永續發展，並協助供應鏈建構低碳競爭力優勢 10.2 ，今 (19) 日舉行全球供應商大會，共計超過百家供應商出席，並宣布將啟動「555 減碳行動」，同時達到「碳強度」年減 5%、下一代產品「碳足跡」減碳 5%，以及「2050 年淨零排放」等三大目標。光寶科總經理邱森彬表示，建構供應鏈夥伴減碳競爭力至關重要，除了以嚴格標準降低自身碳排放，更將發揮影響力協助供應商夥伴成功低碳轉型，555 減碳行動的碳排放、碳足跡與碳倡議三個面向上，協助供應商夥伴達到製程與材料的全面低碳設計提升，並共同投入氣候倡議。光寶科表示，「以大帶小」方式正在帶領供應商夥伴提升低碳意識，自 2021 年便推動永續供應鏈綠色轉型專案，協助 65 間供應商夥伴推動溫室氣體盤查，也與第三方合作展開供應鏈夥伴的節能體檢，找出關鍵能耗原因並加以改善，2022 年總節電潛能高達 567 萬度。光寶科進一步提到，氣候倡議上帶動 31 家夥伴企業加入氣候聯盟，具體展現推動永續價值鏈的決心，同時，光寶科供應商評鑑機制規劃擴大永續評分項目，加速供應商碳數據揭露與產品低碳化的進程。光寶科表示，此次供應商大會聚焦「凝聚、低碳、共贏」三大核心主軸，並藉由業界專家分享國際淨零趨勢、企業碳管理以及廠區節能減碳實務經驗，會場提供最新產學研的低碳材料技術與企業碳管理方案資訊作為交流，為創造更永續、低碳的共贏共好供應鏈打造永續競爭優勢。'\n",
    "txt = mark_ghen_txt(txt, keywords)\n",
    "print(txt)\n"
   ]
  },
  {
   "cell_type": "code",
   "execution_count": 58,
   "id": "64844472",
   "metadata": {},
   "outputs": [],
   "source": [
    "data = {}\n",
    "url = 'https://www.tej.com.tw/webtej/doc/uid.htm'\n",
    "req = requests.get(url)\n",
    "req.encoding = 'utf-8'\n",
    "soup = BeautifulSoup(req.content, \"html.parser\")"
   ]
  },
  {
   "cell_type": "code",
   "execution_count": 56,
   "id": "af129c7e",
   "metadata": {},
   "outputs": [
    {
     "name": "stdout",
     "output_type": "stream",
     "text": [
      "DONE\n"
     ]
    }
   ],
   "source": [
    "stock_data = {}\n",
    "for i in soup.find_all('font'):\n",
    "    x = (i.text).replace(\" \", \"\")\n",
    "    x = \"\".join(x.split())\n",
    "    search_integer = re.findall('\\d\\d\\d\\d', x)\n",
    "    if len(search_integer) != 0:\n",
    "        s_id, s_name = x[:4], x[4:]\n",
    "        stock_data[s_id] = s_name\n",
    "\n",
    "        \n",
    "\n",
    "with open(r'C:\\Users\\user\\Desktop\\arcchang1236.github.io\\pages\\news\\src\\stock_id_name.json', 'w', encoding='utf-8') as f:\n",
    "    json.dump(stock_data, f, indent=4, ensure_ascii=False, sort_keys=True)\n",
    "    \n",
    "print(\"DONE\")"
   ]
  },
  {
   "cell_type": "code",
   "execution_count": 57,
   "id": "536d54f3",
   "metadata": {},
   "outputs": [],
   "source": [
    "stock_id_name_dict = json.load(open('./src/stock_id_name.json', 'r', encoding='utf-8'))\n"
   ]
  },
  {
   "cell_type": "code",
   "execution_count": null,
   "id": "3329b180",
   "metadata": {},
   "outputs": [],
   "source": []
  }
 ],
 "metadata": {
  "kernelspec": {
   "display_name": "Python 3 (ipykernel)",
   "language": "python",
   "name": "python3"
  },
  "language_info": {
   "codemirror_mode": {
    "name": "ipython",
    "version": 3
   },
   "file_extension": ".py",
   "mimetype": "text/x-python",
   "name": "python",
   "nbconvert_exporter": "python",
   "pygments_lexer": "ipython3",
   "version": "3.7.16"
  }
 },
 "nbformat": 4,
 "nbformat_minor": 5
}
